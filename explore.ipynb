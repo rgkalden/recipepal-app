{
 "cells": [
  {
   "cell_type": "code",
   "execution_count": 1,
   "metadata": {},
   "outputs": [],
   "source": [
    "import pandas as pd\n",
    "import numpy as np\n",
    "\n",
    "import matplotlib.pyplot as plt"
   ]
  },
  {
   "cell_type": "code",
   "execution_count": 2,
   "metadata": {},
   "outputs": [],
   "source": [
    "def loadRawData(filename, nrows):\n",
    "    return pd.read_csv(filename)[:nrows]\n",
    "\n",
    "\n",
    "def selectColumns(dataframe, columns):\n",
    "    newDataframe = dataframe.copy()\n",
    "    return newDataframe[columns]\n",
    "\n",
    "def convertTimes(dataframe, columns):\n",
    "    for column in columns:\n",
    "        dataframe[column] = (pd.to_timedelta(dataframe[column], errors='coerce') / np.timedelta64(1, 'm'))\n",
    "\n",
    "def removeNullValues(dataframe):\n",
    "    dataframe.dropna(axis=0, inplace=True)\n",
    "\n",
    "\n",
    "data = loadRawData('recipes.csv', 100)\n",
    "\n",
    "keepColumns = ['Name',\n",
    "               'CookTime', 'PrepTime', 'TotalTime', \n",
    "               'RecipeCategory', \n",
    "               #'RecipeIngredientQuantities', \n",
    "               'RecipeIngredientParts',\n",
    "               'RecipeInstructions']\n",
    "reducedData = selectColumns(data, keepColumns)\n",
    "\n",
    "convertTimes(reducedData, columns=['CookTime', 'PrepTime', 'TotalTime'])\n",
    "\n",
    "removeNullValues(reducedData)"
   ]
  },
  {
   "cell_type": "code",
   "execution_count": 3,
   "metadata": {},
   "outputs": [
    {
     "data": {
      "text/html": [
       "<div>\n",
       "<style scoped>\n",
       "    .dataframe tbody tr th:only-of-type {\n",
       "        vertical-align: middle;\n",
       "    }\n",
       "\n",
       "    .dataframe tbody tr th {\n",
       "        vertical-align: top;\n",
       "    }\n",
       "\n",
       "    .dataframe thead th {\n",
       "        text-align: right;\n",
       "    }\n",
       "</style>\n",
       "<table border=\"1\" class=\"dataframe\">\n",
       "  <thead>\n",
       "    <tr style=\"text-align: right;\">\n",
       "      <th></th>\n",
       "      <th>Name</th>\n",
       "      <th>CookTime</th>\n",
       "      <th>PrepTime</th>\n",
       "      <th>TotalTime</th>\n",
       "      <th>RecipeCategory</th>\n",
       "      <th>RecipeIngredientParts</th>\n",
       "      <th>RecipeInstructions</th>\n",
       "    </tr>\n",
       "  </thead>\n",
       "  <tbody>\n",
       "    <tr>\n",
       "      <th>1</th>\n",
       "      <td>Chicken a L 'orange</td>\n",
       "      <td>30.0</td>\n",
       "      <td>10.0</td>\n",
       "      <td>40.0</td>\n",
       "      <td>Lunch/Snacks</td>\n",
       "      <td>['orange' 'water' 'unsalted butter' 'skinless ...</td>\n",
       "      <td>['Mix frozen orange juice with water, set asid...</td>\n",
       "    </tr>\n",
       "    <tr>\n",
       "      <th>2</th>\n",
       "      <td>Healthy Three Grain Bread</td>\n",
       "      <td>35.0</td>\n",
       "      <td>120.0</td>\n",
       "      <td>155.0</td>\n",
       "      <td>Yeast Breads</td>\n",
       "      <td>['warm water' 'honey' 'whole wheat flour' 'bre...</td>\n",
       "      <td>['Preheat your oven to 400 degrees.'\\n 'Cook t...</td>\n",
       "    </tr>\n",
       "    <tr>\n",
       "      <th>3</th>\n",
       "      <td>Prosciutto-Wrapped Chicken Breasts</td>\n",
       "      <td>15.0</td>\n",
       "      <td>10.0</td>\n",
       "      <td>25.0</td>\n",
       "      <td>Chicken Breast</td>\n",
       "      <td>['boneless skinless chicken breasts' 'black pe...</td>\n",
       "      <td>['Season the chicken with 1/2 teaspoon pepper ...</td>\n",
       "    </tr>\n",
       "    <tr>\n",
       "      <th>4</th>\n",
       "      <td>Easy Pork Chile Verde</td>\n",
       "      <td>600.0</td>\n",
       "      <td>20.0</td>\n",
       "      <td>620.0</td>\n",
       "      <td>Meat</td>\n",
       "      <td>['green chili salsa' 'diced green chilies' 'bo...</td>\n",
       "      <td>['Turn on a 4-6 quart crock pot to high heat s...</td>\n",
       "    </tr>\n",
       "    <tr>\n",
       "      <th>5</th>\n",
       "      <td>Root Beer Float Cupcakes</td>\n",
       "      <td>17.0</td>\n",
       "      <td>45.0</td>\n",
       "      <td>62.0</td>\n",
       "      <td>Dessert</td>\n",
       "      <td>['butter' 'eggs' 'all-purpose flour' 'baking p...</td>\n",
       "      <td>['Allow butter and eggs to stand at room tempe...</td>\n",
       "    </tr>\n",
       "  </tbody>\n",
       "</table>\n",
       "</div>"
      ],
      "text/plain": [
       "                                 Name  CookTime  PrepTime  TotalTime  \\\n",
       "1                 Chicken a L 'orange      30.0      10.0       40.0   \n",
       "2           Healthy Three Grain Bread      35.0     120.0      155.0   \n",
       "3  Prosciutto-Wrapped Chicken Breasts      15.0      10.0       25.0   \n",
       "4               Easy Pork Chile Verde     600.0      20.0      620.0   \n",
       "5            Root Beer Float Cupcakes      17.0      45.0       62.0   \n",
       "\n",
       "   RecipeCategory                              RecipeIngredientParts  \\\n",
       "1    Lunch/Snacks  ['orange' 'water' 'unsalted butter' 'skinless ...   \n",
       "2    Yeast Breads  ['warm water' 'honey' 'whole wheat flour' 'bre...   \n",
       "3  Chicken Breast  ['boneless skinless chicken breasts' 'black pe...   \n",
       "4            Meat  ['green chili salsa' 'diced green chilies' 'bo...   \n",
       "5         Dessert  ['butter' 'eggs' 'all-purpose flour' 'baking p...   \n",
       "\n",
       "                                  RecipeInstructions  \n",
       "1  ['Mix frozen orange juice with water, set asid...  \n",
       "2  ['Preheat your oven to 400 degrees.'\\n 'Cook t...  \n",
       "3  ['Season the chicken with 1/2 teaspoon pepper ...  \n",
       "4  ['Turn on a 4-6 quart crock pot to high heat s...  \n",
       "5  ['Allow butter and eggs to stand at room tempe...  "
      ]
     },
     "execution_count": 3,
     "metadata": {},
     "output_type": "execute_result"
    }
   ],
   "source": [
    "reducedData.head()"
   ]
  },
  {
   "cell_type": "code",
   "execution_count": 4,
   "metadata": {},
   "outputs": [
    {
     "data": {
      "text/html": [
       "<div>\n",
       "<style scoped>\n",
       "    .dataframe tbody tr th:only-of-type {\n",
       "        vertical-align: middle;\n",
       "    }\n",
       "\n",
       "    .dataframe tbody tr th {\n",
       "        vertical-align: top;\n",
       "    }\n",
       "\n",
       "    .dataframe thead th {\n",
       "        text-align: right;\n",
       "    }\n",
       "</style>\n",
       "<table border=\"1\" class=\"dataframe\">\n",
       "  <thead>\n",
       "    <tr style=\"text-align: right;\">\n",
       "      <th></th>\n",
       "      <th>count</th>\n",
       "      <th>mean</th>\n",
       "      <th>std</th>\n",
       "      <th>min</th>\n",
       "      <th>25%</th>\n",
       "      <th>50%</th>\n",
       "      <th>75%</th>\n",
       "      <th>max</th>\n",
       "    </tr>\n",
       "  </thead>\n",
       "  <tbody>\n",
       "    <tr>\n",
       "      <th>CookTime</th>\n",
       "      <td>82.0</td>\n",
       "      <td>107.463415</td>\n",
       "      <td>484.635620</td>\n",
       "      <td>2.0</td>\n",
       "      <td>15.00</td>\n",
       "      <td>27.5</td>\n",
       "      <td>45.00</td>\n",
       "      <td>4320.0</td>\n",
       "    </tr>\n",
       "    <tr>\n",
       "      <th>PrepTime</th>\n",
       "      <td>82.0</td>\n",
       "      <td>36.560976</td>\n",
       "      <td>157.862035</td>\n",
       "      <td>0.0</td>\n",
       "      <td>10.00</td>\n",
       "      <td>15.0</td>\n",
       "      <td>23.75</td>\n",
       "      <td>1440.0</td>\n",
       "    </tr>\n",
       "    <tr>\n",
       "      <th>TotalTime</th>\n",
       "      <td>82.0</td>\n",
       "      <td>144.024390</td>\n",
       "      <td>504.325879</td>\n",
       "      <td>10.0</td>\n",
       "      <td>31.25</td>\n",
       "      <td>45.0</td>\n",
       "      <td>71.50</td>\n",
       "      <td>4325.0</td>\n",
       "    </tr>\n",
       "  </tbody>\n",
       "</table>\n",
       "</div>"
      ],
      "text/plain": [
       "           count        mean         std   min    25%   50%    75%     max\n",
       "CookTime    82.0  107.463415  484.635620   2.0  15.00  27.5  45.00  4320.0\n",
       "PrepTime    82.0   36.560976  157.862035   0.0  10.00  15.0  23.75  1440.0\n",
       "TotalTime   82.0  144.024390  504.325879  10.0  31.25  45.0  71.50  4325.0"
      ]
     },
     "execution_count": 4,
     "metadata": {},
     "output_type": "execute_result"
    }
   ],
   "source": [
    "reducedData.describe().transpose()"
   ]
  },
  {
   "cell_type": "code",
   "execution_count": 5,
   "metadata": {},
   "outputs": [],
   "source": [
    "topNumberCategories = 10\n",
    "topCategories = reducedData['RecipeCategory'].value_counts().index.to_list()[:topNumberCategories]\n",
    "\n",
    "topCategoriesDataframe = reducedData[reducedData['RecipeCategory'].isin(topCategories)]"
   ]
  },
  {
   "cell_type": "code",
   "execution_count": 6,
   "metadata": {},
   "outputs": [
    {
     "data": {
      "image/png": "[encoded data removed]",
      "text/plain": [
       "<Figure size 864x288 with 1 Axes>"
      ]
     },
     "metadata": {
      "needs_background": "light"
     },
     "output_type": "display_data"
    }
   ],
   "source": [
    "figCategories = plt.figure(figsize=(12, 4))\n",
    "plt.hist(topCategoriesDataframe['RecipeCategory'], bins=30)\n",
    "plt.title('Recipe Categories')\n",
    "plt.ylabel('Count')\n",
    "plt.xticks(rotation=90);"
   ]
  },
  {
   "cell_type": "code",
   "execution_count": 7,
   "metadata": {},
   "outputs": [
    {
     "data": {
      "image/png": "[encoded data removed]",
      "text/plain": [
       "<Figure size 864x288 with 1 Axes>"
      ]
     },
     "metadata": {
      "needs_background": "light"
     },
     "output_type": "display_data"
    }
   ],
   "source": [
    "figTotalTime = plt.figure(figsize=(12, 4))\n",
    "plt.hist(reducedData['TotalTime'], bins=30)\n",
    "plt.title('Cooking Times')\n",
    "plt.ylabel('Count')\n",
    "plt.xticks(rotation=90);"
   ]
  },
  {
   "cell_type": "code",
   "execution_count": 8,
   "metadata": {},
   "outputs": [
    {
     "data": {
      "text/html": [
       "<div>\n",
       "<style scoped>\n",
       "    .dataframe tbody tr th:only-of-type {\n",
       "        vertical-align: middle;\n",
       "    }\n",
       "\n",
       "    .dataframe tbody tr th {\n",
       "        vertical-align: top;\n",
       "    }\n",
       "\n",
       "    .dataframe thead th {\n",
       "        text-align: right;\n",
       "    }\n",
       "</style>\n",
       "<table border=\"1\" class=\"dataframe\">\n",
       "  <thead>\n",
       "    <tr style=\"text-align: right;\">\n",
       "      <th></th>\n",
       "      <th>Name</th>\n",
       "      <th>CookTime</th>\n",
       "      <th>PrepTime</th>\n",
       "      <th>TotalTime</th>\n",
       "      <th>RecipeCategory</th>\n",
       "      <th>RecipeIngredientParts</th>\n",
       "      <th>RecipeInstructions</th>\n",
       "    </tr>\n",
       "  </thead>\n",
       "  <tbody>\n",
       "    <tr>\n",
       "      <th>1</th>\n",
       "      <td>Chicken a L 'orange</td>\n",
       "      <td>30.0</td>\n",
       "      <td>10.0</td>\n",
       "      <td>40.0</td>\n",
       "      <td>Lunch/Snacks</td>\n",
       "      <td>['orange' 'water' 'unsalted butter' 'skinless ...</td>\n",
       "      <td>['Mix frozen orange juice with water, set asid...</td>\n",
       "    </tr>\n",
       "    <tr>\n",
       "      <th>3</th>\n",
       "      <td>Prosciutto-Wrapped Chicken Breasts</td>\n",
       "      <td>15.0</td>\n",
       "      <td>10.0</td>\n",
       "      <td>25.0</td>\n",
       "      <td>Chicken Breast</td>\n",
       "      <td>['boneless skinless chicken breasts' 'black pe...</td>\n",
       "      <td>['Season the chicken with 1/2 teaspoon pepper ...</td>\n",
       "    </tr>\n",
       "    <tr>\n",
       "      <th>5</th>\n",
       "      <td>Root Beer Float Cupcakes</td>\n",
       "      <td>17.0</td>\n",
       "      <td>45.0</td>\n",
       "      <td>62.0</td>\n",
       "      <td>Dessert</td>\n",
       "      <td>['butter' 'eggs' 'all-purpose flour' 'baking p...</td>\n",
       "      <td>['Allow butter and eggs to stand at room tempe...</td>\n",
       "    </tr>\n",
       "    <tr>\n",
       "      <th>6</th>\n",
       "      <td>Sweet Plantain and Sausage Stuffing</td>\n",
       "      <td>35.0</td>\n",
       "      <td>30.0</td>\n",
       "      <td>65.0</td>\n",
       "      <td>Vegetable</td>\n",
       "      <td>['plantain' 'onion' 'raisins' 'turkey broth' '...</td>\n",
       "      <td>['Place chunks of plantains onto greased bakin...</td>\n",
       "    </tr>\n",
       "    <tr>\n",
       "      <th>9</th>\n",
       "      <td>Basketball Queso</td>\n",
       "      <td>20.0</td>\n",
       "      <td>15.0</td>\n",
       "      <td>35.0</td>\n",
       "      <td>Cheese</td>\n",
       "      <td>['unsalted butter' 'flour' 'salt' 'black peppe...</td>\n",
       "      <td>['Set a large saucepan over medium-high heat w...</td>\n",
       "    </tr>\n",
       "  </tbody>\n",
       "</table>\n",
       "</div>"
      ],
      "text/plain": [
       "                                  Name  CookTime  PrepTime  TotalTime  \\\n",
       "1                  Chicken a L 'orange      30.0      10.0       40.0   \n",
       "3   Prosciutto-Wrapped Chicken Breasts      15.0      10.0       25.0   \n",
       "5             Root Beer Float Cupcakes      17.0      45.0       62.0   \n",
       "6  Sweet Plantain and Sausage Stuffing      35.0      30.0       65.0   \n",
       "9                     Basketball Queso      20.0      15.0       35.0   \n",
       "\n",
       "   RecipeCategory                              RecipeIngredientParts  \\\n",
       "1    Lunch/Snacks  ['orange' 'water' 'unsalted butter' 'skinless ...   \n",
       "3  Chicken Breast  ['boneless skinless chicken breasts' 'black pe...   \n",
       "5         Dessert  ['butter' 'eggs' 'all-purpose flour' 'baking p...   \n",
       "6       Vegetable  ['plantain' 'onion' 'raisins' 'turkey broth' '...   \n",
       "9          Cheese  ['unsalted butter' 'flour' 'salt' 'black peppe...   \n",
       "\n",
       "                                  RecipeInstructions  \n",
       "1  ['Mix frozen orange juice with water, set asid...  \n",
       "3  ['Season the chicken with 1/2 teaspoon pepper ...  \n",
       "5  ['Allow butter and eggs to stand at room tempe...  \n",
       "6  ['Place chunks of plantains onto greased bakin...  \n",
       "9  ['Set a large saucepan over medium-high heat w...  "
      ]
     },
     "execution_count": 8,
     "metadata": {},
     "output_type": "execute_result"
    }
   ],
   "source": [
    "totalTimeRange = (15, 100)\n",
    "\n",
    "filteredData = reducedData[(reducedData['TotalTime'] >= totalTimeRange[0]) & (reducedData['TotalTime'] <= totalTimeRange[1])]\n",
    "filteredData.head()"
   ]
  },
  {
   "cell_type": "code",
   "execution_count": null,
   "metadata": {},
   "outputs": [],
   "source": []
  }
 ],
 "metadata": {
  "kernelspec": {
   "display_name": "Python 3.9.12 ('streamlit_env')",
   "language": "python",
   "name": "python3"
  },
  "language_info": {
   "codemirror_mode": {
    "name": "ipython",
    "version": 3
   },
   "file_extension": ".py",
   "mimetype": "text/x-python",
   "name": "python",
   "nbconvert_exporter": "python",
   "pygments_lexer": "ipython3",
   "version": "3.9.12"
  },
  "orig_nbformat": 4,
  "vscode": {
   "interpreter": {
    "hash": "599e83202344326c7f509db643cec9eed8594df15b722d20e1ef9c46f489778e"
   }
  }
 },
 "nbformat": 4,
 "nbformat_minor": 2
}
