{
 "cells": [
  {
   "cell_type": "code",
   "execution_count": 1,
   "metadata": {},
   "outputs": [],
   "source": [
    "import pandas as pd\n",
    "import numpy as np\n",
    "\n",
    "import matplotlib.pyplot as plt"
   ]
  },
  {
   "cell_type": "code",
   "execution_count": 19,
   "metadata": {},
   "outputs": [],
   "source": [
    "def loadRawData(filename, nrows):\n",
    "    return pd.read_parquet(filename)[:nrows]\n",
    "\n",
    "\n",
    "def selectColumns(dataframe, columns):\n",
    "    newDataframe = dataframe.copy()\n",
    "    return newDataframe[columns]\n",
    "\n",
    "def convertTimes(dataframe, columns):\n",
    "    for column in columns:\n",
    "        dataframe[column] = (pd.to_timedelta(dataframe[column], errors='coerce') / np.timedelta64(1, 'm'))\n",
    "\n",
    "def removeNullValues(dataframe):\n",
    "    dataframe.dropna(axis=0, inplace=True)\n",
    "\n",
    "\n",
    "data = loadRawData('recipes.parquet', 100)\n",
    "\n",
    "keepColumns = ['Name',\n",
    "               'CookTime', 'PrepTime', 'TotalTime', \n",
    "               'RecipeCategory', \n",
    "               #'RecipeIngredientQuantities', \n",
    "               'RecipeIngredientParts',\n",
    "               'RecipeInstructions']\n",
    "reducedData = selectColumns(data, keepColumns)\n",
    "\n",
    "convertTimes(reducedData, columns=['CookTime', 'PrepTime', 'TotalTime'])\n",
    "\n",
    "removeNullValues(reducedData)"
   ]
  },
  {
   "cell_type": "code",
   "execution_count": 21,
   "metadata": {},
   "outputs": [
    {
     "data": {
      "text/html": [
       "<div>\n",
       "<style scoped>\n",
       "    .dataframe tbody tr th:only-of-type {\n",
       "        vertical-align: middle;\n",
       "    }\n",
       "\n",
       "    .dataframe tbody tr th {\n",
       "        vertical-align: top;\n",
       "    }\n",
       "\n",
       "    .dataframe thead th {\n",
       "        text-align: right;\n",
       "    }\n",
       "</style>\n",
       "<table border=\"1\" class=\"dataframe\">\n",
       "  <thead>\n",
       "    <tr style=\"text-align: right;\">\n",
       "      <th></th>\n",
       "      <th>Name</th>\n",
       "      <th>CookTime</th>\n",
       "      <th>PrepTime</th>\n",
       "      <th>TotalTime</th>\n",
       "      <th>RecipeCategory</th>\n",
       "      <th>RecipeIngredientParts</th>\n",
       "      <th>RecipeInstructions</th>\n",
       "    </tr>\n",
       "  </thead>\n",
       "  <tbody>\n",
       "    <tr>\n",
       "      <th>0</th>\n",
       "      <td>Low-Fat Berry Blue Frozen Dessert</td>\n",
       "      <td>1440.0</td>\n",
       "      <td>45.0</td>\n",
       "      <td>1485.0</td>\n",
       "      <td>Frozen Desserts</td>\n",
       "      <td>[blueberries, granulated sugar, vanilla yogurt...</td>\n",
       "      <td>[Toss 2 cups berries with sugar., Let stand fo...</td>\n",
       "    </tr>\n",
       "    <tr>\n",
       "      <th>1</th>\n",
       "      <td>Biryani</td>\n",
       "      <td>25.0</td>\n",
       "      <td>240.0</td>\n",
       "      <td>265.0</td>\n",
       "      <td>Chicken Breast</td>\n",
       "      <td>[saffron, milk, hot green chili peppers, onion...</td>\n",
       "      <td>[Soak saffron in warm milk for 5 minutes and p...</td>\n",
       "    </tr>\n",
       "    <tr>\n",
       "      <th>2</th>\n",
       "      <td>Best Lemonade</td>\n",
       "      <td>5.0</td>\n",
       "      <td>30.0</td>\n",
       "      <td>35.0</td>\n",
       "      <td>Beverages</td>\n",
       "      <td>[sugar, lemons, rind of, lemon, zest of, fresh...</td>\n",
       "      <td>[Into a 1 quart Jar with tight fitting lid, pu...</td>\n",
       "    </tr>\n",
       "    <tr>\n",
       "      <th>3</th>\n",
       "      <td>Carina's Tofu-Vegetable Kebabs</td>\n",
       "      <td>20.0</td>\n",
       "      <td>1440.0</td>\n",
       "      <td>1460.0</td>\n",
       "      <td>Soy/Tofu</td>\n",
       "      <td>[extra firm tofu, eggplant, zucchini, mushroom...</td>\n",
       "      <td>[Drain the tofu, carefully squeezing out exces...</td>\n",
       "    </tr>\n",
       "    <tr>\n",
       "      <th>4</th>\n",
       "      <td>Cabbage Soup</td>\n",
       "      <td>30.0</td>\n",
       "      <td>20.0</td>\n",
       "      <td>50.0</td>\n",
       "      <td>Vegetable</td>\n",
       "      <td>[plain tomato juice, cabbage, onion, carrots, ...</td>\n",
       "      <td>[Mix everything together and bring to a boil.,...</td>\n",
       "    </tr>\n",
       "  </tbody>\n",
       "</table>\n",
       "</div>"
      ],
      "text/plain": [
       "                                Name  CookTime  PrepTime  TotalTime  \\\n",
       "0  Low-Fat Berry Blue Frozen Dessert    1440.0      45.0     1485.0   \n",
       "1                            Biryani      25.0     240.0      265.0   \n",
       "2                      Best Lemonade       5.0      30.0       35.0   \n",
       "3     Carina's Tofu-Vegetable Kebabs      20.0    1440.0     1460.0   \n",
       "4                       Cabbage Soup      30.0      20.0       50.0   \n",
       "\n",
       "    RecipeCategory                              RecipeIngredientParts  \\\n",
       "0  Frozen Desserts  [blueberries, granulated sugar, vanilla yogurt...   \n",
       "1   Chicken Breast  [saffron, milk, hot green chili peppers, onion...   \n",
       "2        Beverages  [sugar, lemons, rind of, lemon, zest of, fresh...   \n",
       "3         Soy/Tofu  [extra firm tofu, eggplant, zucchini, mushroom...   \n",
       "4        Vegetable  [plain tomato juice, cabbage, onion, carrots, ...   \n",
       "\n",
       "                                  RecipeInstructions  \n",
       "0  [Toss 2 cups berries with sugar., Let stand fo...  \n",
       "1  [Soak saffron in warm milk for 5 minutes and p...  \n",
       "2  [Into a 1 quart Jar with tight fitting lid, pu...  \n",
       "3  [Drain the tofu, carefully squeezing out exces...  \n",
       "4  [Mix everything together and bring to a boil.,...  "
      ]
     },
     "execution_count": 21,
     "metadata": {},
     "output_type": "execute_result"
    }
   ],
   "source": [
    "reducedData.head()"
   ]
  },
  {
   "cell_type": "code",
   "execution_count": 14,
   "metadata": {},
   "outputs": [
    {
     "data": {
      "text/html": [
       "<div>\n",
       "<style scoped>\n",
       "    .dataframe tbody tr th:only-of-type {\n",
       "        vertical-align: middle;\n",
       "    }\n",
       "\n",
       "    .dataframe tbody tr th {\n",
       "        vertical-align: top;\n",
       "    }\n",
       "\n",
       "    .dataframe thead th {\n",
       "        text-align: right;\n",
       "    }\n",
       "</style>\n",
       "<table border=\"1\" class=\"dataframe\">\n",
       "  <thead>\n",
       "    <tr style=\"text-align: right;\">\n",
       "      <th></th>\n",
       "      <th>count</th>\n",
       "      <th>mean</th>\n",
       "      <th>std</th>\n",
       "      <th>min</th>\n",
       "      <th>25%</th>\n",
       "      <th>50%</th>\n",
       "      <th>75%</th>\n",
       "      <th>max</th>\n",
       "    </tr>\n",
       "  </thead>\n",
       "  <tbody>\n",
       "    <tr>\n",
       "      <th>CookTime</th>\n",
       "      <td>79.0</td>\n",
       "      <td>85.379747</td>\n",
       "      <td>167.622080</td>\n",
       "      <td>3.0</td>\n",
       "      <td>25.0</td>\n",
       "      <td>50.0</td>\n",
       "      <td>97.5</td>\n",
       "      <td>1440.0</td>\n",
       "    </tr>\n",
       "    <tr>\n",
       "      <th>PrepTime</th>\n",
       "      <td>79.0</td>\n",
       "      <td>60.316456</td>\n",
       "      <td>162.538638</td>\n",
       "      <td>5.0</td>\n",
       "      <td>20.0</td>\n",
       "      <td>35.0</td>\n",
       "      <td>50.0</td>\n",
       "      <td>1440.0</td>\n",
       "    </tr>\n",
       "    <tr>\n",
       "      <th>TotalTime</th>\n",
       "      <td>79.0</td>\n",
       "      <td>145.696203</td>\n",
       "      <td>228.951532</td>\n",
       "      <td>15.0</td>\n",
       "      <td>50.0</td>\n",
       "      <td>85.0</td>\n",
       "      <td>156.0</td>\n",
       "      <td>1485.0</td>\n",
       "    </tr>\n",
       "  </tbody>\n",
       "</table>\n",
       "</div>"
      ],
      "text/plain": [
       "           count        mean         std   min   25%   50%    75%     max\n",
       "CookTime    79.0   85.379747  167.622080   3.0  25.0  50.0   97.5  1440.0\n",
       "PrepTime    79.0   60.316456  162.538638   5.0  20.0  35.0   50.0  1440.0\n",
       "TotalTime   79.0  145.696203  228.951532  15.0  50.0  85.0  156.0  1485.0"
      ]
     },
     "execution_count": 14,
     "metadata": {},
     "output_type": "execute_result"
    }
   ],
   "source": [
    "reducedData.describe().transpose()"
   ]
  },
  {
   "cell_type": "code",
   "execution_count": 32,
   "metadata": {},
   "outputs": [],
   "source": [
    "topNumberCategories = 10\n",
    "topCategories = reducedData['RecipeCategory'].value_counts().index.to_list()[:topNumberCategories]\n",
    "\n",
    "topCategoriesDataframe = reducedData[reducedData['RecipeCategory'].isin(topCategories)]"
   ]
  },
  {
   "cell_type": "code",
   "execution_count": 33,
   "metadata": {},
   "outputs": [
    {
     "data": {
      "image/png": "[encoded data removed]",
      "text/plain": [
       "<Figure size 864x288 with 1 Axes>"
      ]
     },
     "metadata": {
      "needs_background": "light"
     },
     "output_type": "display_data"
    }
   ],
   "source": [
    "figCategories = plt.figure(figsize=(12, 4))\n",
    "plt.hist(topCategoriesDataframe['RecipeCategory'], bins=30)\n",
    "plt.title('Recipe Categories')\n",
    "plt.ylabel('Count')\n",
    "plt.xticks(rotation=90);"
   ]
  },
  {
   "cell_type": "code",
   "execution_count": 12,
   "metadata": {},
   "outputs": [
    {
     "data": {
      "image/png": "[encoded data removed]",
      "text/plain": [
       "<Figure size 864x288 with 1 Axes>"
      ]
     },
     "metadata": {
      "needs_background": "light"
     },
     "output_type": "display_data"
    }
   ],
   "source": [
    "figTotalTime = plt.figure(figsize=(12, 4))\n",
    "plt.hist(reducedData['TotalTime'], bins=30)\n",
    "plt.title('Cooking Times')\n",
    "plt.ylabel('Count')\n",
    "plt.xticks(rotation=90);"
   ]
  },
  {
   "cell_type": "code",
   "execution_count": 42,
   "metadata": {},
   "outputs": [
    {
     "data": {
      "text/html": [
       "<div>\n",
       "<style scoped>\n",
       "    .dataframe tbody tr th:only-of-type {\n",
       "        vertical-align: middle;\n",
       "    }\n",
       "\n",
       "    .dataframe tbody tr th {\n",
       "        vertical-align: top;\n",
       "    }\n",
       "\n",
       "    .dataframe thead th {\n",
       "        text-align: right;\n",
       "    }\n",
       "</style>\n",
       "<table border=\"1\" class=\"dataframe\">\n",
       "  <thead>\n",
       "    <tr style=\"text-align: right;\">\n",
       "      <th></th>\n",
       "      <th>Name</th>\n",
       "      <th>CookTime</th>\n",
       "      <th>PrepTime</th>\n",
       "      <th>TotalTime</th>\n",
       "      <th>RecipeCategory</th>\n",
       "      <th>RecipeIngredientParts</th>\n",
       "      <th>RecipeInstructions</th>\n",
       "    </tr>\n",
       "  </thead>\n",
       "  <tbody>\n",
       "    <tr>\n",
       "      <th>2</th>\n",
       "      <td>Best Lemonade</td>\n",
       "      <td>5.0</td>\n",
       "      <td>30.0</td>\n",
       "      <td>35.0</td>\n",
       "      <td>Beverages</td>\n",
       "      <td>[sugar, lemons, rind of, lemon, zest of, fresh...</td>\n",
       "      <td>[Into a 1 quart Jar with tight fitting lid, pu...</td>\n",
       "    </tr>\n",
       "    <tr>\n",
       "      <th>4</th>\n",
       "      <td>Cabbage Soup</td>\n",
       "      <td>30.0</td>\n",
       "      <td>20.0</td>\n",
       "      <td>50.0</td>\n",
       "      <td>Vegetable</td>\n",
       "      <td>[plain tomato juice, cabbage, onion, carrots, ...</td>\n",
       "      <td>[Mix everything together and bring to a boil.,...</td>\n",
       "    </tr>\n",
       "    <tr>\n",
       "      <th>6</th>\n",
       "      <td>Warm Chicken A La King</td>\n",
       "      <td>3.0</td>\n",
       "      <td>35.0</td>\n",
       "      <td>38.0</td>\n",
       "      <td>Chicken</td>\n",
       "      <td>[chicken, butter, flour, milk, celery, button ...</td>\n",
       "      <td>[Melt 1 1/2 ozs butter, add the flour and cook...</td>\n",
       "    </tr>\n",
       "    <tr>\n",
       "      <th>7</th>\n",
       "      <td>Buttermilk Pie With Gingersnap Crumb Crust</td>\n",
       "      <td>50.0</td>\n",
       "      <td>30.0</td>\n",
       "      <td>80.0</td>\n",
       "      <td>Pie</td>\n",
       "      <td>[sugar, margarine, egg, flour, salt, buttermil...</td>\n",
       "      <td>[Preheat oven to 350°F., Make pie crust, using...</td>\n",
       "    </tr>\n",
       "    <tr>\n",
       "      <th>9</th>\n",
       "      <td>Butter Pecan Cookies</td>\n",
       "      <td>9.0</td>\n",
       "      <td>55.0</td>\n",
       "      <td>64.0</td>\n",
       "      <td>Dessert</td>\n",
       "      <td>[butter, brown sugar, granulated sugar, vanill...</td>\n",
       "      <td>[Preheat oven to 350 degrees., Cream butter in...</td>\n",
       "    </tr>\n",
       "  </tbody>\n",
       "</table>\n",
       "</div>"
      ],
      "text/plain": [
       "                                         Name  CookTime  PrepTime  TotalTime  \\\n",
       "2                               Best Lemonade       5.0      30.0       35.0   \n",
       "4                                Cabbage Soup      30.0      20.0       50.0   \n",
       "6                      Warm Chicken A La King       3.0      35.0       38.0   \n",
       "7  Buttermilk Pie With Gingersnap Crumb Crust      50.0      30.0       80.0   \n",
       "9                        Butter Pecan Cookies       9.0      55.0       64.0   \n",
       "\n",
       "  RecipeCategory                              RecipeIngredientParts  \\\n",
       "2      Beverages  [sugar, lemons, rind of, lemon, zest of, fresh...   \n",
       "4      Vegetable  [plain tomato juice, cabbage, onion, carrots, ...   \n",
       "6        Chicken  [chicken, butter, flour, milk, celery, button ...   \n",
       "7            Pie  [sugar, margarine, egg, flour, salt, buttermil...   \n",
       "9        Dessert  [butter, brown sugar, granulated sugar, vanill...   \n",
       "\n",
       "                                  RecipeInstructions  \n",
       "2  [Into a 1 quart Jar with tight fitting lid, pu...  \n",
       "4  [Mix everything together and bring to a boil.,...  \n",
       "6  [Melt 1 1/2 ozs butter, add the flour and cook...  \n",
       "7  [Preheat oven to 350°F., Make pie crust, using...  \n",
       "9  [Preheat oven to 350 degrees., Cream butter in...  "
      ]
     },
     "execution_count": 42,
     "metadata": {},
     "output_type": "execute_result"
    }
   ],
   "source": [
    "totalTimeRange = (15, 100)\n",
    "\n",
    "filteredData = reducedData[(reducedData['TotalTime'] >= totalTimeRange[0]) & (reducedData['TotalTime'] <= totalTimeRange[1])]\n",
    "filteredData.head()"
   ]
  },
  {
   "cell_type": "code",
   "execution_count": null,
   "metadata": {},
   "outputs": [],
   "source": []
  }
 ],
 "metadata": {
  "kernelspec": {
   "display_name": "Python 3.9.12 ('streamlit_env')",
   "language": "python",
   "name": "python3"
  },
  "language_info": {
   "codemirror_mode": {
    "name": "ipython",
    "version": 3
   },
   "file_extension": ".py",
   "mimetype": "text/x-python",
   "name": "python",
   "nbconvert_exporter": "python",
   "pygments_lexer": "ipython3",
   "version": "3.9.12"
  },
  "orig_nbformat": 4,
  "vscode": {
   "interpreter": {
    "hash": "599e83202344326c7f509db643cec9eed8594df15b722d20e1ef9c46f489778e"
   }
  }
 },
 "nbformat": 4,
 "nbformat_minor": 2
}
